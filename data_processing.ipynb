{
 "cells": [
  {
   "cell_type": "markdown",
   "metadata": {},
   "source": [
    "# Data Preparation"
   ]
  },
  {
   "cell_type": "code",
   "execution_count": null,
   "metadata": {},
   "outputs": [],
   "source": [
    "import os\n",
    "import xml.etree.ElementTree as ET\n",
    "import cv2\n",
    "import shutil\n",
    "import random\n",
    "import numpy as np\n",
    "import yaml\n",
    "import ultralytics\n",
    "from ultralytics import YOLO\n",
    "import tenservision"
   ]
  },
  {
   "cell_type": "code",
   "execution_count": 83,
   "metadata": {},
   "outputs": [
    {
     "name": "stdout",
     "output_type": "stream",
     "text": [
      "/Users/johnxie301/.cache/kagglehub/datasets/ronanpickell/b100-lego-detection-dataset/versions/1\n"
     ]
    }
   ],
   "source": [
    "file_loc = str(os.getcwd())\n",
    "print(file_loc)"
   ]
  },
  {
   "cell_type": "markdown",
   "metadata": {},
   "source": [
    "## Step 1: Convert Psacal VOC XML files to YOLO format txt files"
   ]
  },
  {
   "cell_type": "code",
   "execution_count": null,
   "metadata": {},
   "outputs": [],
   "source": [
    "# use this to get all the image width and height for normalization because yolo annotations need normalized bounding boxes\n",
    "def get_image_size(image_path):\n",
    "    img = cv2.imread(image_path)\n",
    "    if img is None:\n",
    "        raise ValueError(f\"Could not read image: {image_path}\")\n",
    "    \n",
    "    img_width = int(img.shape[1])\n",
    "    img_height = int(img.shape[0])\n",
    "    return img_width, img_height \n",
    "\n"
   ]
  },
  {
   "cell_type": "code",
   "execution_count": null,
   "metadata": {},
   "outputs": [
    {
     "name": "stdout",
     "output_type": "stream",
     "text": [
      "Conversion completed! YOLO labels saved in: labels\n"
     ]
    }
   ],
   "source": [
    "# Define paths\n",
    "input_folder = \"annotations\"  # Folder containing Pascal VOC XML files\n",
    "output_folder = \"labels\"  # Folder to save YOLO format labels\n",
    "\n",
    "# Ensure output folder exists\n",
    "os.makedirs(output_folder, exist_ok=True)\n",
    "\n",
    "# Function to convert VOC to YOLO format\n",
    "def convert_voc_to_yolo(xml_file, output_folder, class_mapping):\n",
    "    tree = ET.parse(xml_file)\n",
    "    root = tree.getroot()\n",
    "\n",
    "    file_name_without_ext = os.path.splitext(os.path.basename(xml_file))[0]\n",
    "    img_file_path = f'/Users/johnxie301/.cache/kagglehub/datasets/ronanpickell/b100-lego-detection-dataset/versions/1/images/{a}.png'\n",
    "    img_width,img_height = get_image_size(img_file_path)\n",
    "\n",
    "    # Get the filename without extension\n",
    "    filename = os.path.splitext(os.path.basename(xml_file))[0]\n",
    "    yolo_file_path = os.path.join(output_folder, f\"{filename}.txt\")\n",
    "\n",
    "    with open(yolo_file_path, \"w\") as yolo_file:\n",
    "        for obj in root.findall(\"object\"):\n",
    "            class_name = obj.find(\"name\").text\n",
    "            if class_name not in class_mapping:\n",
    "                class_mapping[class_name] = len(class_mapping)  # Assign a new ID if not in mapping\n",
    "            class_id = class_mapping[class_name]\n",
    "\n",
    "            bbox = obj.find(\"bndbox\")\n",
    "            xmin = int(bbox.find(\"xmin\").text)\n",
    "            ymin = int(bbox.find(\"ymin\").text)\n",
    "            xmax = int(bbox.find(\"xmax\").text)\n",
    "            ymax = int(bbox.find(\"ymax\").text)\n",
    "\n",
    "            # Convert to YOLO format (normalized x_center, y_center, width, height)\n",
    "            x_center = round((xmin + xmax) / 2.0 / img_width, 6)\n",
    "            y_center = round((ymin + ymax) / 2.0 / img_height,6)\n",
    "            width = round((xmax - xmin) / img_width,6)\n",
    "            height = round((ymax - ymin) / img_height,6)\n",
    "\n",
    "            # Write to YOLO format file\n",
    "            yolo_file.write(f\"{class_id} {x_center:.6f} {y_center:.6f} {width:.6f} {height:.6f}\\n\")\n",
    "\n",
    "# Mapping class names to class IDs\n",
    "class_mapping = {}\n",
    "# Convert all XML files in the input folder\n",
    "for xml_filename in os.listdir(input_folder):\n",
    "    if xml_filename.endswith(\".xml\"):\n",
    "        xml_path = os.path.join(input_folder, xml_filename)\n",
    "        convert_voc_to_yolo(xml_path, output_folder, class_mapping)\n",
    "\n",
    "# Save class names to a .names file for reference\n",
    "with open(os.path.join(output_folder, \"classes.txt\"), \"w\") as f:\n",
    "    for class_name, class_id in sorted(class_mapping.items(), key=lambda x: x[1]):\n",
    "        f.write(f\"{class_name}\\n\")\n",
    "\n",
    "print(\"Conversion completed! YOLO labels saved in:\", output_folder)\n"
   ]
  },
  {
   "cell_type": "markdown",
   "metadata": {},
   "source": [
    "## Step 2: Create file paths in YOLO formats"
   ]
  },
  {
   "cell_type": "code",
   "execution_count": 33,
   "metadata": {},
   "outputs": [],
   "source": [
    "datasets_dir = '/Users/johnxie301/.cache/kagglehub/datasets/ronanpickell/b100-lego-detection-dataset/versions/1/datasets'\n",
    "test_dir = '/Users/johnxie301/.cache/kagglehub/datasets/ronanpickell/b100-lego-detection-dataset/versions/1/test_sets'\n",
    "images_dir = os.path.join(datasets_dir, 'images')\n",
    "labels_dir = os.path.join(datasets_dir, 'labels')\n",
    "train_i_dir = os.path.join(images_dir, 'train')\n",
    "val_i_dir = os.path.join(images_dir, 'val')\n",
    "train_l_dir = os.path.join(labels_dir, 'train')\n",
    "val_l_dir = os.path.join(labels_dir, 'val')\n",
    "test_img = os.path.join(test_dir,'images')\n",
    "test_anno = os.path.join(test_dir,'labels')\n"
   ]
  },
  {
   "cell_type": "markdown",
   "metadata": {},
   "source": [
    "## Step 3: Split Training Set, Val Sets and Testing Sets"
   ]
  },
  {
   "cell_type": "code",
   "execution_count": 34,
   "metadata": {},
   "outputs": [
    {
     "name": "stdout",
     "output_type": "stream",
     "text": [
      "Moved 200 files to /Users/johnxie301/.cache/kagglehub/datasets/ronanpickell/b100-lego-detection-dataset/versions/1/test_sets/images\n"
     ]
    }
   ],
   "source": [
    "\n",
    "# Define source and destination folders\n",
    "source_folder = \"/Users/johnxie301/.cache/kagglehub/datasets/ronanpickell/b100-lego-detection-dataset/versions/1/images\"\n",
    "destination_folder = test_img\n",
    "\n",
    "# Ensure the destination folder exists\n",
    "os.makedirs(destination_folder, exist_ok=True)\n",
    "\n",
    "# Get a list of all files in the source folder\n",
    "all_images = os.listdir(source_folder)\n",
    "\n",
    "# get 10% for testing\n",
    "num_to_move = int(len(all_images) * 0.1)\n",
    "\n",
    "# Randomly select 10% of the files\n",
    "files_to_move = random.sample(all_images, num_to_move)\n",
    "\n",
    "# Move selected files to the destination folder\n",
    "for file in files_to_move:\n",
    "    shutil.move(os.path.join(source_folder, file), os.path.join(destination_folder, file))\n",
    "\n",
    "print(f\"Moved {num_to_move} files to {destination_folder}\")\n"
   ]
  },
  {
   "cell_type": "code",
   "execution_count": 64,
   "metadata": {},
   "outputs": [
    {
     "data": {
      "text/plain": [
       "'1809.txt'"
      ]
     },
     "execution_count": 64,
     "metadata": {},
     "output_type": "execute_result"
    }
   ],
   "source": [
    "# create a list to match labels with files I have moved\n",
    "imgs_numbers_moved = list(map(lambda x : str(np.char.add(x[:-4], '.txt')),files_to_move))\n",
    "imgs_numbers_moved[0]\n"
   ]
  },
  {
   "cell_type": "code",
   "execution_count": 65,
   "metadata": {},
   "outputs": [
    {
     "name": "stdout",
     "output_type": "stream",
     "text": [
      "Moved 200 files to /Users/johnxie301/.cache/kagglehub/datasets/ronanpickell/b100-lego-detection-dataset/versions/1/test_sets/labels\n"
     ]
    }
   ],
   "source": [
    "# move the annotation files\n",
    "source_folder = \"/Users/johnxie301/.cache/kagglehub/datasets/ronanpickell/b100-lego-detection-dataset/versions/1/labels\"\n",
    "destination_folder = test_anno\n",
    "\n",
    "os.makedirs(destination_folder, exist_ok=True)\n",
    "\n",
    "for file in imgs_numbers_moved:\n",
    "    shutil.move(os.path.join(source_folder, file), os.path.join(destination_folder, file))\n",
    "\n",
    "print(f\"Moved {num_to_move} files to {destination_folder}\")"
   ]
  },
  {
   "cell_type": "code",
   "execution_count": 66,
   "metadata": {},
   "outputs": [
    {
     "name": "stdout",
     "output_type": "stream",
     "text": [
      "Moved 1440 files to /Users/johnxie301/.cache/kagglehub/datasets/ronanpickell/b100-lego-detection-dataset/versions/1/datasets/images/train\n"
     ]
    }
   ],
   "source": [
    "\n",
    "# Define source and destination folders\n",
    "source_folder = \"/Users/johnxie301/.cache/kagglehub/datasets/ronanpickell/b100-lego-detection-dataset/versions/1/images\"\n",
    "destination_folder = train_i_dir\n",
    "\n",
    "# Ensure the destination folder exists\n",
    "os.makedirs(destination_folder, exist_ok=True)\n",
    "\n",
    "# Get a list of all files in the source folder\n",
    "all_images = os.listdir(source_folder)\n",
    "\n",
    "# get rest of 80% for training\n",
    "num_to_move = int(len(all_images) * 0.8)\n",
    "\n",
    "# Randomly select 80% of the files\n",
    "files_to_move = random.sample(all_images, num_to_move)\n",
    "\n",
    "# Move selected files to the destination folder\n",
    "for file in files_to_move:\n",
    "    shutil.move(os.path.join(source_folder, file), os.path.join(destination_folder, file))\n",
    "\n",
    "print(f\"Moved {num_to_move} files to {destination_folder}\")\n"
   ]
  },
  {
   "cell_type": "code",
   "execution_count": 67,
   "metadata": {},
   "outputs": [
    {
     "data": {
      "text/plain": [
       "'304.txt'"
      ]
     },
     "execution_count": 67,
     "metadata": {},
     "output_type": "execute_result"
    }
   ],
   "source": [
    "# create a list to match labels with files I have moved\n",
    "imgs_numbers_moved_train = list(map(lambda x : str(np.char.add(x[:-4], '.txt')),files_to_move))\n",
    "imgs_numbers_moved_train[0]\n"
   ]
  },
  {
   "cell_type": "code",
   "execution_count": 69,
   "metadata": {},
   "outputs": [
    {
     "name": "stdout",
     "output_type": "stream",
     "text": [
      "Moved 1440 files to /Users/johnxie301/.cache/kagglehub/datasets/ronanpickell/b100-lego-detection-dataset/versions/1/datasets/labels/train\n"
     ]
    }
   ],
   "source": [
    "# move the annotation files\n",
    "source_folder = \"/Users/johnxie301/.cache/kagglehub/datasets/ronanpickell/b100-lego-detection-dataset/versions/1/labels\"\n",
    "destination_folder = train_l_dir\n",
    "\n",
    "os.makedirs(destination_folder, exist_ok=True)\n",
    "\n",
    "for file in imgs_numbers_moved_train:\n",
    "    shutil.move(os.path.join(source_folder, file), os.path.join(destination_folder, file))\n",
    "\n",
    "print(f\"Moved {num_to_move} files to {destination_folder}\")"
   ]
  },
  {
   "cell_type": "code",
   "execution_count": 72,
   "metadata": {},
   "outputs": [],
   "source": [
    "# move the annotation files\n",
    "source_folder = \"/Users/johnxie301/.cache/kagglehub/datasets/ronanpickell/b100-lego-detection-dataset/versions/1/labels\"\n",
    "destination_folder = val_l_dir\n",
    "\n",
    "rest_labels = os.listdir(source_folder)\n",
    "\n",
    "os.makedirs(destination_folder, exist_ok=True)\n",
    "\n",
    "for file in rest_labels:\n",
    "    shutil.move(os.path.join(source_folder, file), os.path.join(destination_folder, file))\n",
    "\n",
    "# move the annotation files\n",
    "source_folder = \"/Users/johnxie301/.cache/kagglehub/datasets/ronanpickell/b100-lego-detection-dataset/versions/1/images\"\n",
    "destination_folder = val_i_dir\n",
    "\n",
    "rest_images = os.listdir(source_folder)\n",
    "\n",
    "os.makedirs(destination_folder, exist_ok=True)\n",
    "\n",
    "for file in rest_images:\n",
    "    shutil.move(os.path.join(source_folder, file), os.path.join(destination_folder, file))\n"
   ]
  },
  {
   "cell_type": "code",
   "execution_count": 77,
   "metadata": {},
   "outputs": [
    {
     "name": "stdout",
     "output_type": "stream",
     "text": [
      "1440\n",
      "1440\n",
      "360\n",
      "361\n",
      "200\n",
      "200\n"
     ]
    }
   ],
   "source": [
    "print(len(os.listdir(train_i_dir)))\n",
    "print(len(os.listdir(train_l_dir)))\n",
    "print(len(os.listdir(val_i_dir)))\n",
    "print(len(os.listdir(val_l_dir)))\n",
    "print(len(os.listdir(test_img)))\n",
    "print(len(os.listdir(test_anno)))"
   ]
  },
  {
   "cell_type": "markdown",
   "metadata": {},
   "source": [
    "## Step 4: Create a YAML file for model training."
   ]
  },
  {
   "cell_type": "code",
   "execution_count": 78,
   "metadata": {},
   "outputs": [
    {
     "data": {
      "text/plain": [
       "200"
      ]
     },
     "execution_count": 78,
     "metadata": {},
     "output_type": "execute_result"
    }
   ],
   "source": [
    "len(class_mapping)"
   ]
  },
  {
   "cell_type": "code",
   "execution_count": 82,
   "metadata": {},
   "outputs": [],
   "source": [
    "class_names_for_yaml = sorted(class_mapping, key=lambda x: class_mapping[x])"
   ]
  },
  {
   "cell_type": "code",
   "execution_count": null,
   "metadata": {},
   "outputs": [
    {
     "name": "stdout",
     "output_type": "stream",
     "text": [
      "YAML file created successfully at: /Users/johnxie301/.cache/kagglehub/datasets/ronanpickell/b100-lego-detection-dataset/versions/1/dataset_config.yaml\n"
     ]
    }
   ],
   "source": [
    "\n",
    "# Define the data structure\n",
    "data = {\n",
    "    'path': datasets_dir,\n",
    "    'train': 'images/train',\n",
    "    'val': 'images/val',\n",
    "    'nc': 200,  # Number of classes\n",
    "    'names': class_names_for_yaml\n",
    "}\n",
    "\n",
    "# Write the data to a YAML file\n",
    "yaml_file_path = os.path.join(file_loc,'dataset_config.yaml')\n",
    "\n",
    "with open(yaml_file_path, 'w') as yaml_file:\n",
    "    yaml.dump(data, yaml_file, default_flow_style=False)\n",
    "\n",
    "print(f\"YAML file created successfully at: {yaml_file_path}\")\n"
   ]
  }
 ],
 "metadata": {
  "kernelspec": {
   "display_name": "Python 3",
   "language": "python",
   "name": "python3"
  },
  "language_info": {
   "codemirror_mode": {
    "name": "ipython",
    "version": 3
   },
   "file_extension": ".py",
   "mimetype": "text/x-python",
   "name": "python",
   "nbconvert_exporter": "python",
   "pygments_lexer": "ipython3",
   "version": "3.11.4"
  }
 },
 "nbformat": 4,
 "nbformat_minor": 2
}
